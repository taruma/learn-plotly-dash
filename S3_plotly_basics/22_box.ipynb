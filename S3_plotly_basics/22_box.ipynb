{
 "cells": [
  {
   "cell_type": "code",
   "execution_count": 1,
   "metadata": {},
   "outputs": [],
   "source": [
    "%load_ext autoreload\n",
    "%autoreload 1\n",
    "%aimport umaplotly"
   ]
  },
  {
   "cell_type": "code",
   "execution_count": 2,
   "metadata": {},
   "outputs": [],
   "source": [
    "import plotly.io as pio\n",
    "from umaplotly import uma_template\n",
    "\n",
    "pio.templates.default = uma_template"
   ]
  },
  {
   "cell_type": "code",
   "execution_count": 5,
   "metadata": {},
   "outputs": [],
   "source": [
    "import plotly.graph_objects as go\n",
    "\n",
    "y = list(map(int, '1 14 14 15 16 18 18 19 19 20 20 23 24 26 27 27 28 29 33 54'.split()))"
   ]
  },
  {
   "cell_type": "code",
   "execution_count": 19,
   "metadata": {},
   "outputs": [
    {
     "data": {
      "application/vnd.plotly.v1+json": {
       "config": {
        "plotlyServerURL": "https://plot.ly"
       },
       "data": [
        {
         "boxpoints": "outliers",
         "type": "box",
         "y": [
          1,
          14,
          14,
          15,
          16,
          18,
          18,
          19,
          19,
          20,
          20,
          23,
          24,
          26,
          27,
          27,
          28,
          29,
          33,
          54
         ]
        }
       ],
       "layout": {
        "hovermode": "x",
        "template": {
         "data": {
          "scatter": [
           {
            "type": "scatter"
           }
          ]
         },
         "layout": {
          "hovermode": "x unified",
          "images": [
           {
            "name": "logo",
            "sizex": 0.2,
            "sizey": 0.2,
            "source": "https://hidrokit.github.io/hidrokit/assets/images/presskit/hidrokit-800x200-transparent.png",
            "x": 1,
            "xanchor": "right",
            "xref": "paper",
            "y": 1.05,
            "yanchor": "bottom",
            "yref": "paper"
           }
          ]
         }
        }
       }
      }
     },
     "metadata": {},
     "output_type": "display_data"
    }
   ],
   "source": [
    "# data = [\n",
    "#     go.Box(\n",
    "#         y=y,\n",
    "#         boxpoints='all',\n",
    "#         jitter=0.3,\n",
    "#         pointpos=2.0\n",
    "#     )\n",
    "# ]\n",
    "\n",
    "data = [\n",
    "    go.Box(\n",
    "        y=y,\n",
    "        boxpoints='outliers',\n",
    "    )\n",
    "]\n",
    "\n",
    "layout = go.Layout(\n",
    "    hovermode='x'\n",
    ")\n",
    "\n",
    "go.Figure(data=data, layout=layout)"
   ]
  },
  {
   "cell_type": "code",
   "execution_count": 21,
   "metadata": {},
   "outputs": [],
   "source": [
    "snodgrass = list(map(float, '.209 .205 .196 .210 .202 .207 .224 .223 .220 .201'.split()))\n",
    "twain = list(map(float, '.225 .262 .217 .240 .230 .229 .235 .217'.split()))"
   ]
  },
  {
   "cell_type": "code",
   "execution_count": 23,
   "metadata": {},
   "outputs": [
    {
     "data": {
      "application/vnd.plotly.v1+json": {
       "config": {
        "plotlyServerURL": "https://plot.ly"
       },
       "data": [
        {
         "name": "Snodgrass",
         "type": "box",
         "y": [
          0.209,
          0.205,
          0.196,
          0.21,
          0.202,
          0.207,
          0.224,
          0.223,
          0.22,
          0.201
         ]
        },
        {
         "name": "twain",
         "type": "box",
         "y": [
          0.225,
          0.262,
          0.217,
          0.24,
          0.23,
          0.229,
          0.235,
          0.217
         ]
        }
       ],
       "layout": {
        "hovermode": "x",
        "template": {
         "data": {
          "scatter": [
           {
            "type": "scatter"
           }
          ]
         },
         "layout": {
          "hovermode": "x unified",
          "images": [
           {
            "name": "logo",
            "sizex": 0.2,
            "sizey": 0.2,
            "source": "https://hidrokit.github.io/hidrokit/assets/images/presskit/hidrokit-800x200-transparent.png",
            "x": 1,
            "xanchor": "right",
            "xref": "paper",
            "y": 1.05,
            "yanchor": "bottom",
            "yref": "paper"
           }
          ]
         }
        }
       }
      }
     },
     "metadata": {},
     "output_type": "display_data"
    }
   ],
   "source": [
    "data = [go.Box(y=snodgrass, name=\"Snodgrass\"), go.Box(y=twain, name=\"twain\")]\n",
    "\n",
    "layout = go.Layout(\n",
    "    hovermode='x'\n",
    ")\n",
    "\n",
    "go.Figure(data, layout)\n"
   ]
  }
 ],
 "metadata": {
  "interpreter": {
   "hash": "8b3febb7a13a3bc147e839693f216248118cd9a21d230e8084b3b0ed30519b80"
  },
  "kernelspec": {
   "display_name": "Python 3.8.13 ('dashcourse38')",
   "language": "python",
   "name": "python3"
  },
  "language_info": {
   "codemirror_mode": {
    "name": "ipython",
    "version": 3
   },
   "file_extension": ".py",
   "mimetype": "text/x-python",
   "name": "python",
   "nbconvert_exporter": "python",
   "pygments_lexer": "ipython3",
   "version": "3.8.13"
  },
  "orig_nbformat": 4
 },
 "nbformat": 4,
 "nbformat_minor": 2
}
