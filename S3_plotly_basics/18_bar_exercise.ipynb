{
 "cells": [
  {
   "cell_type": "code",
   "execution_count": 5,
   "metadata": {},
   "outputs": [],
   "source": [
    "#######\n",
    "# Objective: Create a stacked bar chart from\n",
    "# the file ../data/mocksurvey.csv. Note that questions appear in\n",
    "# the index (and should be used for the x-axis), while responses\n",
    "# appear as column labels.  Extra Credit: make a horizontal bar chart!\n",
    "######\n",
    "\n",
    "# Perform imports here:\n",
    "\n",
    "import pandas as pd\n",
    "import plotly.graph_objects as go\n",
    "import plotly.io as pio\n",
    "from umaplotly import uma\n",
    "\n",
    "pio.templates.default = uma\n"
   ]
  },
  {
   "cell_type": "code",
   "execution_count": 15,
   "metadata": {},
   "outputs": [
    {
     "data": {
      "text/html": [
       "<div>\n",
       "<style scoped>\n",
       "    .dataframe tbody tr th:only-of-type {\n",
       "        vertical-align: middle;\n",
       "    }\n",
       "\n",
       "    .dataframe tbody tr th {\n",
       "        vertical-align: top;\n",
       "    }\n",
       "\n",
       "    .dataframe thead th {\n",
       "        text-align: right;\n",
       "    }\n",
       "</style>\n",
       "<table border=\"1\" class=\"dataframe\">\n",
       "  <thead>\n",
       "    <tr style=\"text-align: right;\">\n",
       "      <th></th>\n",
       "      <th>Question</th>\n",
       "      <th>Strongly Agree</th>\n",
       "      <th>Somewhat Agree</th>\n",
       "      <th>Neutral</th>\n",
       "      <th>Somewhat Disagree</th>\n",
       "      <th>Strongly Disagree</th>\n",
       "    </tr>\n",
       "  </thead>\n",
       "  <tbody>\n",
       "    <tr>\n",
       "      <th>0</th>\n",
       "      <td>Question 1</td>\n",
       "      <td>0.45</td>\n",
       "      <td>0.25</td>\n",
       "      <td>0.10</td>\n",
       "      <td>0.12</td>\n",
       "      <td>0.08</td>\n",
       "    </tr>\n",
       "    <tr>\n",
       "      <th>1</th>\n",
       "      <td>Question 2</td>\n",
       "      <td>0.12</td>\n",
       "      <td>0.07</td>\n",
       "      <td>0.48</td>\n",
       "      <td>0.18</td>\n",
       "      <td>0.15</td>\n",
       "    </tr>\n",
       "    <tr>\n",
       "      <th>2</th>\n",
       "      <td>Question 3</td>\n",
       "      <td>0.05</td>\n",
       "      <td>0.22</td>\n",
       "      <td>0.19</td>\n",
       "      <td>0.23</td>\n",
       "      <td>0.31</td>\n",
       "    </tr>\n",
       "  </tbody>\n",
       "</table>\n",
       "</div>"
      ],
      "text/plain": [
       "     Question  Strongly Agree  Somewhat Agree  Neutral  Somewhat Disagree  \\\n",
       "0  Question 1            0.45            0.25     0.10               0.12   \n",
       "1  Question 2            0.12            0.07     0.48               0.18   \n",
       "2  Question 3            0.05            0.22     0.19               0.23   \n",
       "\n",
       "   Strongly Disagree  \n",
       "0               0.08  \n",
       "1               0.15  \n",
       "2               0.31  "
      ]
     },
     "execution_count": 15,
     "metadata": {},
     "output_type": "execute_result"
    }
   ],
   "source": [
    "# create a DataFrame from the .csv file:\n",
    "\n",
    "df = pd.read_csv(r'..\\source\\Plotly-Dashboards-with-Dash\\Data\\mocksurvey.csv')\n",
    "df.rename({'Unnamed: 0': 'Question'}, axis=1, inplace=True)\n",
    "df"
   ]
  },
  {
   "cell_type": "code",
   "execution_count": 22,
   "metadata": {},
   "outputs": [
    {
     "data": {
      "application/vnd.plotly.v1+json": {
       "config": {
        "plotlyServerURL": "https://plot.ly"
       },
       "data": [
        {
         "name": "Strongly Agree",
         "orientation": "h",
         "type": "bar",
         "x": [
          0.45,
          0.12,
          0.05
         ],
         "y": [
          "Question 1",
          "Question 2",
          "Question 3"
         ]
        },
        {
         "name": "Somewhat Agree",
         "orientation": "h",
         "type": "bar",
         "x": [
          0.25,
          0.07,
          0.22
         ],
         "y": [
          "Question 1",
          "Question 2",
          "Question 3"
         ]
        },
        {
         "name": "Neutral",
         "orientation": "h",
         "type": "bar",
         "x": [
          0.1,
          0.48,
          0.19
         ],
         "y": [
          "Question 1",
          "Question 2",
          "Question 3"
         ]
        },
        {
         "name": "Somewhat Disagree",
         "orientation": "h",
         "type": "bar",
         "x": [
          0.12,
          0.18,
          0.23
         ],
         "y": [
          "Question 1",
          "Question 2",
          "Question 3"
         ]
        },
        {
         "name": "Strongly Disagree",
         "orientation": "h",
         "type": "bar",
         "x": [
          0.08,
          0.15,
          0.31
         ],
         "y": [
          "Question 1",
          "Question 2",
          "Question 3"
         ]
        }
       ],
       "layout": {
        "barmode": "stack",
        "hovermode": "y",
        "template": {
         "data": {
          "scatter": [
           {
            "type": "scatter"
           }
          ]
         },
         "layout": {
          "hovermode": "x unified"
         }
        },
        "title": {
         "text": "Mock Survey Results"
        }
       }
      }
     },
     "metadata": {},
     "output_type": "display_data"
    }
   ],
   "source": [
    "# create traces using a list comprehension:\n",
    "\n",
    "trace = [\n",
    "    go.Bar(\n",
    "        x=df.Question,\n",
    "        y=df[answer],\n",
    "        name=answer,\n",
    "    )\n",
    "    for answer in df.columns[1:]\n",
    "]\n",
    "\n",
    "trace_h = [\n",
    "    go.Bar(\n",
    "        x=df[answer],\n",
    "        y=df.Question,\n",
    "        name=answer,\n",
    "        orientation=\"h\",\n",
    "    )\n",
    "    for answer in df.columns[1:]\n",
    "]\n",
    "\n",
    "\n",
    "# create a layout, remember to set the barmode here\n",
    "\n",
    "layout = go.Layout(title=\"Mock Survey Results\", barmode=\"stack\", hovermode=\"y\")\n",
    "\n",
    "# create a fig from data & layout, and plot the fig.\n",
    "\n",
    "go.Figure(data=trace_h, layout=layout)\n"
   ]
  }
 ],
 "metadata": {
  "interpreter": {
   "hash": "8b3febb7a13a3bc147e839693f216248118cd9a21d230e8084b3b0ed30519b80"
  },
  "kernelspec": {
   "display_name": "Python 3.8.13 ('dashcourse38')",
   "language": "python",
   "name": "python3"
  },
  "language_info": {
   "codemirror_mode": {
    "name": "ipython",
    "version": 3
   },
   "file_extension": ".py",
   "mimetype": "text/x-python",
   "name": "python",
   "nbconvert_exporter": "python",
   "pygments_lexer": "ipython3",
   "version": "3.8.13"
  },
  "orig_nbformat": 4
 },
 "nbformat": 4,
 "nbformat_minor": 2
}
