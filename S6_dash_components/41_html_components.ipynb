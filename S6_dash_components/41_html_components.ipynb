{
 "cells": [
  {
   "cell_type": "code",
   "execution_count": 1,
   "metadata": {},
   "outputs": [],
   "source": [
    "from jupyter_dash import JupyterDash\n",
    "from dash import html, dcc\n",
    "import plotly.graph_objects as go"
   ]
  },
  {
   "cell_type": "code",
   "execution_count": 2,
   "metadata": {},
   "outputs": [],
   "source": [
    "app = JupyterDash('example')"
   ]
  },
  {
   "cell_type": "code",
   "execution_count": 7,
   "metadata": {},
   "outputs": [],
   "source": [
    "app.layout = html.Div(\n",
    "    [\n",
    "        \"This is the outermost div!\",\n",
    "        html.Div(\n",
    "            [\"This is an inner div!\"], style={\"color\": \"red\", \"border\": \"2px red solid\"}\n",
    "        ),\n",
    "        html.Div(\n",
    "            [\"Another inner div!\"], style={\"color\": \"blue\", \"border\": \"3px blue solid\"}\n",
    "        ),\n",
    "    ],\n",
    "    style={\"color\": \"green\", \"border\": \"2px green solid\"},\n",
    ")\n"
   ]
  },
  {
   "cell_type": "code",
   "execution_count": 4,
   "metadata": {},
   "outputs": [
    {
     "name": "stdout",
     "output_type": "stream",
     "text": [
      "Dash app running on http://127.0.0.1:8050/\n"
     ]
    }
   ],
   "source": [
    "app.run_server()"
   ]
  }
 ],
 "metadata": {
  "interpreter": {
   "hash": "8b3febb7a13a3bc147e839693f216248118cd9a21d230e8084b3b0ed30519b80"
  },
  "kernelspec": {
   "display_name": "Python 3.8.13 ('dashcourse38')",
   "language": "python",
   "name": "python3"
  },
  "language_info": {
   "codemirror_mode": {
    "name": "ipython",
    "version": 3
   },
   "file_extension": ".py",
   "mimetype": "text/x-python",
   "name": "python",
   "nbconvert_exporter": "python",
   "pygments_lexer": "ipython3",
   "version": "3.8.13"
  },
  "orig_nbformat": 4
 },
 "nbformat": 4,
 "nbformat_minor": 2
}
