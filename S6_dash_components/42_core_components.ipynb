{
 "cells": [
  {
   "cell_type": "code",
   "execution_count": 1,
   "metadata": {},
   "outputs": [],
   "source": [
    "from jupyter_dash import JupyterDash\n",
    "from dash import Dash, dcc, html\n",
    "import plotly.graph_objects as go"
   ]
  },
  {
   "cell_type": "code",
   "execution_count": 2,
   "metadata": {},
   "outputs": [
    {
     "data": {
      "text/plain": [
       "'2.3.0'"
      ]
     },
     "execution_count": 2,
     "metadata": {},
     "output_type": "execute_result"
    }
   ],
   "source": [
    "dcc.__version__"
   ]
  },
  {
   "cell_type": "code",
   "execution_count": 3,
   "metadata": {},
   "outputs": [],
   "source": [
    "app = JupyterDash('core_example')"
   ]
  },
  {
   "cell_type": "code",
   "execution_count": 4,
   "metadata": {},
   "outputs": [],
   "source": [
    "app.layout = html.Div(\n",
    "    [\n",
    "        html.Label(\"Dropdown\"),\n",
    "        dcc.Dropdown(\n",
    "            options=[\n",
    "                {\"label\": \"New York City\", \"value\": \"NYC\"},\n",
    "                {\"label\": \"San Francisco\", \"value\": \"SF\"},\n",
    "            ],\n",
    "            value=\"SF\",\n",
    "        ),\n",
    "        html.Label(\"Slider\"),\n",
    "        dcc.Slider(\n",
    "            min=-10,\n",
    "            max=10,\n",
    "            step=0.5,\n",
    "            value=0,\n",
    "            marks={i: str(i) for i in range(-10, 11)},\n",
    "        ),\n",
    "        html.P(html.Label(\"Some Radio Items\")),\n",
    "        dcc.RadioItems(\n",
    "            options=[\n",
    "                {\"label\": \"New York City\", \"value\": \"NYC\"},\n",
    "                {\"label\": \"San Francisco\", \"value\": \"SF\"},\n",
    "            ],\n",
    "            value=\"SF\",\n",
    "        ),\n",
    "    ]\n",
    ")\n"
   ]
  },
  {
   "cell_type": "code",
   "execution_count": 5,
   "metadata": {},
   "outputs": [
    {
     "name": "stdout",
     "output_type": "stream",
     "text": [
      "Dash app running on http://127.0.0.1:8050/\n"
     ]
    }
   ],
   "source": [
    "app.run_server()"
   ]
  },
  {
   "cell_type": "code",
   "execution_count": null,
   "metadata": {},
   "outputs": [],
   "source": []
  }
 ],
 "metadata": {
  "interpreter": {
   "hash": "8b3febb7a13a3bc147e839693f216248118cd9a21d230e8084b3b0ed30519b80"
  },
  "kernelspec": {
   "display_name": "Python 3.8.13 ('dashcourse38')",
   "language": "python",
   "name": "python3"
  },
  "language_info": {
   "codemirror_mode": {
    "name": "ipython",
    "version": 3
   },
   "file_extension": ".py",
   "mimetype": "text/x-python",
   "name": "python",
   "nbconvert_exporter": "python",
   "pygments_lexer": "ipython3",
   "version": "3.8.13"
  },
  "orig_nbformat": 4
 },
 "nbformat": 4,
 "nbformat_minor": 2
}
