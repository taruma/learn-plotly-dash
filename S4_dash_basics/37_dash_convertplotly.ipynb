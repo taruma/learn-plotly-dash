{
 "cells": [
  {
   "cell_type": "code",
   "execution_count": 1,
   "metadata": {},
   "outputs": [],
   "source": [
    "from dash import dcc, html\n",
    "from jupyter_dash import JupyterDash\n"
   ]
  },
  {
   "cell_type": "code",
   "execution_count": 3,
   "metadata": {},
   "outputs": [],
   "source": [
    "import plotly.io as pio\n",
    "from umaplotly import uma_template\n",
    "\n",
    "pio.templates.default = uma_template\n",
    "\n",
    "import plotly.graph_objects as go\n"
   ]
  },
  {
   "cell_type": "code",
   "execution_count": 4,
   "metadata": {},
   "outputs": [],
   "source": [
    "app = JupyterDash()"
   ]
  },
  {
   "cell_type": "code",
   "execution_count": 13,
   "metadata": {},
   "outputs": [],
   "source": [
    "import numpy as np\n",
    "\n",
    "np.random.seed(42)\n",
    "random_x = np.random.randint(1, 101, 100)\n",
    "random_y = np.random.randint(1, 101, 100)\n",
    "\n",
    "data1 = [\n",
    "    go.Scatter(\n",
    "        x=random_x,\n",
    "        y=random_y,\n",
    "        mode=\"markers\",\n",
    "        marker=dict(\n",
    "            size=12, color=\"rgb(51,204,153)\", symbol=\"pentagon\", line=dict(width=2)\n",
    "        ),\n",
    "    )\n",
    "]\n",
    "layout1 = go.Layout(title=\"My Scatterplot 1\", xaxis=dict(title=\"some x title\"))\n",
    "fig1 = go.Figure(data1, layout1)\n",
    "\n",
    "data2 = [\n",
    "    go.Scatter(\n",
    "        x=random_x,\n",
    "        y=random_y,\n",
    "        mode=\"markers\",\n",
    "        marker=dict(\n",
    "            size=12, color=\"rgb(200,204,53)\", symbol=\"pentagon\", line=dict(width=2)\n",
    "        ),\n",
    "    )\n",
    "]\n",
    "layout2 = go.Layout(title=\"My Scatterplot 2\", xaxis=dict(title=\"some x title\"))\n",
    "fig2 = go.Figure(data2, layout2)\n",
    "\n",
    "app.layout = html.Div(\n",
    "    [\n",
    "        dcc.Graph(\n",
    "            id=\"scatterplot1\",\n",
    "            figure=fig1\n",
    "            # figure=dict(\n",
    "            #     data=[go.Scatter(x=random_x, y=random_y, mode=\"markers\")],\n",
    "            #     layout=go.Layout(title=\"scatter\"),\n",
    "            # ),\n",
    "        ),\n",
    "        dcc.Graph(id=\"scatterplot2\", figure=fig2),\n",
    "    ]\n",
    ")\n"
   ]
  },
  {
   "cell_type": "code",
   "execution_count": 6,
   "metadata": {},
   "outputs": [
    {
     "name": "stdout",
     "output_type": "stream",
     "text": [
      "Dash app running on http://127.0.0.1:8050/\n"
     ]
    }
   ],
   "source": [
    "app.run_server(mode='external')"
   ]
  },
  {
   "cell_type": "code",
   "execution_count": null,
   "metadata": {},
   "outputs": [],
   "source": []
  }
 ],
 "metadata": {
  "interpreter": {
   "hash": "8b3febb7a13a3bc147e839693f216248118cd9a21d230e8084b3b0ed30519b80"
  },
  "kernelspec": {
   "display_name": "Python 3.8.13 ('dashcourse38')",
   "language": "python",
   "name": "python3"
  },
  "language_info": {
   "codemirror_mode": {
    "name": "ipython",
    "version": 3
   },
   "file_extension": ".py",
   "mimetype": "text/x-python",
   "name": "python",
   "nbconvert_exporter": "python",
   "pygments_lexer": "ipython3",
   "version": "3.8.13"
  },
  "orig_nbformat": 4
 },
 "nbformat": 4,
 "nbformat_minor": 2
}
