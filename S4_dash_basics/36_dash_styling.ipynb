{
 "cells": [
  {
   "cell_type": "code",
   "execution_count": 1,
   "metadata": {},
   "outputs": [],
   "source": [
    "from dash import html, dcc\n",
    "from jupyter_dash import JupyterDash\n",
    "\n",
    "app = JupyterDash('example2')"
   ]
  },
  {
   "cell_type": "code",
   "execution_count": 5,
   "metadata": {},
   "outputs": [],
   "source": [
    "colors = {\"background\": \"#111111\", \"text\": \"#7FDBFF\"}\n",
    "\n",
    "app.layout = html.Div(\n",
    "    children=[\n",
    "        html.H1(\"Hello Dash!\", style={\"textAlign\": \"center\", \"color\": colors[\"text\"]}),\n",
    "        dcc.Graph(\n",
    "            id=\"example\",\n",
    "            figure={\n",
    "                \"data\": [\n",
    "                    {\"x\": [1, 2, 3], \"y\": [4, 1, 2], \"type\": \"bar\", \"name\": \"SF\"},\n",
    "                    {\"x\": [1, 2, 3], \"y\": [2, 4, 5], \"type\": \"bar\", \"name\": \"NYC\"},\n",
    "                ],\n",
    "                \"layout\": {\n",
    "                    \"plot_bgcolor\": colors[\"background\"],\n",
    "                    \"paper_bgcolor\": colors[\"background\"],\n",
    "                    \"font\": {\"color\": colors[\"text\"]},\n",
    "                    \"title\": \"Bar Plots!\",\n",
    "                    \"hovermode\": \"x\",\n",
    "                },\n",
    "            },\n",
    "        ),\n",
    "    ],\n",
    "    style={\"backgroundColor\": colors[\"background\"]},\n",
    ")\n"
   ]
  },
  {
   "cell_type": "code",
   "execution_count": 3,
   "metadata": {},
   "outputs": [
    {
     "name": "stdout",
     "output_type": "stream",
     "text": [
      "Dash app running on http://127.0.0.1:8050/\n"
     ]
    }
   ],
   "source": [
    "app.run_server(mode='external')"
   ]
  },
  {
   "cell_type": "code",
   "execution_count": null,
   "metadata": {},
   "outputs": [],
   "source": []
  }
 ],
 "metadata": {
  "interpreter": {
   "hash": "8b3febb7a13a3bc147e839693f216248118cd9a21d230e8084b3b0ed30519b80"
  },
  "kernelspec": {
   "display_name": "Python 3.8.13 ('dashcourse38')",
   "language": "python",
   "name": "python3"
  },
  "language_info": {
   "codemirror_mode": {
    "name": "ipython",
    "version": 3
   },
   "file_extension": ".py",
   "mimetype": "text/x-python",
   "name": "python",
   "nbconvert_exporter": "python",
   "pygments_lexer": "ipython3",
   "version": "3.8.13"
  },
  "orig_nbformat": 4
 },
 "nbformat": 4,
 "nbformat_minor": 2
}
